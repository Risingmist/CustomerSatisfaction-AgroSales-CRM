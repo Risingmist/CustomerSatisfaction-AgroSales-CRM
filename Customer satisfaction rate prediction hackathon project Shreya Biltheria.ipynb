{
 "cells": [
  {
   "cell_type": "code",
   "execution_count": 24,
   "id": "0133ed28",
   "metadata": {},
   "outputs": [],
   "source": [
    "import random\n",
    "import pandas as pd\n",
    "[w1,w2,w3,w4] = [0.526,0.526,0.526,0.526]\n",
    "vals = []\n",
    "for i in range(1000):\n",
    "    x1 = random.randint(1, 50)\n",
    "    x2 = random.randint(10, 20)\n",
    "    x3 = random.randint(40, 50)\n",
    "    x4 = random.randint(60, 70)\n",
    "    eq = w1*x1+w2*x2+w3*x3+w4*x4\n",
    "    vals.append([x1,x2,x3,x4,eq])\n",
    "df = pd.DataFrame(vals,columns=['Brand Preference','Brand Attitude','Purchase Intention','Professionalism','Customer Satisfaction'])\n",
    "df.to_csv('DATASETF1.csv',index=False)"
   ]
  },
  {
   "cell_type": "code",
   "execution_count": 127,
   "id": "d36c9add",
   "metadata": {},
   "outputs": [
    {
     "data": {
      "text/html": [
       "<div>\n",
       "<style scoped>\n",
       "    .dataframe tbody tr th:only-of-type {\n",
       "        vertical-align: middle;\n",
       "    }\n",
       "\n",
       "    .dataframe tbody tr th {\n",
       "        vertical-align: top;\n",
       "    }\n",
       "\n",
       "    .dataframe thead th {\n",
       "        text-align: right;\n",
       "    }\n",
       "</style>\n",
       "<table border=\"1\" class=\"dataframe\">\n",
       "  <thead>\n",
       "    <tr style=\"text-align: right;\">\n",
       "      <th></th>\n",
       "      <th>Brand Preference</th>\n",
       "      <th>Brand Attitude</th>\n",
       "      <th>Purchase Intention</th>\n",
       "      <th>Professionalism</th>\n",
       "      <th>Customer Satisfaction</th>\n",
       "    </tr>\n",
       "  </thead>\n",
       "  <tbody>\n",
       "  </tbody>\n",
       "</table>\n",
       "</div>"
      ],
      "text/plain": [
       "Empty DataFrame\n",
       "Columns: [Brand Preference, Brand Attitude, Purchase Intention, Professionalism, Customer Satisfaction]\n",
       "Index: []"
      ]
     },
     "execution_count": 127,
     "metadata": {},
     "output_type": "execute_result"
    }
   ],
   "source": [
    "df.head(0)"
   ]
  },
  {
   "cell_type": "code",
   "execution_count": 128,
   "id": "c37fff7d",
   "metadata": {},
   "outputs": [
    {
     "data": {
      "text/html": [
       "<div>\n",
       "<style scoped>\n",
       "    .dataframe tbody tr th:only-of-type {\n",
       "        vertical-align: middle;\n",
       "    }\n",
       "\n",
       "    .dataframe tbody tr th {\n",
       "        vertical-align: top;\n",
       "    }\n",
       "\n",
       "    .dataframe thead th {\n",
       "        text-align: right;\n",
       "    }\n",
       "</style>\n",
       "<table border=\"1\" class=\"dataframe\">\n",
       "  <thead>\n",
       "    <tr style=\"text-align: right;\">\n",
       "      <th></th>\n",
       "      <th>Brand Preference</th>\n",
       "      <th>Brand Attitude</th>\n",
       "      <th>Purchase Intention</th>\n",
       "      <th>Professionalism</th>\n",
       "      <th>Customer Satisfaction</th>\n",
       "    </tr>\n",
       "  </thead>\n",
       "  <tbody>\n",
       "    <tr>\n",
       "      <th>0</th>\n",
       "      <td>25</td>\n",
       "      <td>20</td>\n",
       "      <td>46</td>\n",
       "      <td>63</td>\n",
       "      <td>81.004</td>\n",
       "    </tr>\n",
       "    <tr>\n",
       "      <th>1</th>\n",
       "      <td>37</td>\n",
       "      <td>19</td>\n",
       "      <td>42</td>\n",
       "      <td>62</td>\n",
       "      <td>84.160</td>\n",
       "    </tr>\n",
       "    <tr>\n",
       "      <th>2</th>\n",
       "      <td>19</td>\n",
       "      <td>20</td>\n",
       "      <td>43</td>\n",
       "      <td>63</td>\n",
       "      <td>76.270</td>\n",
       "    </tr>\n",
       "    <tr>\n",
       "      <th>3</th>\n",
       "      <td>28</td>\n",
       "      <td>18</td>\n",
       "      <td>40</td>\n",
       "      <td>62</td>\n",
       "      <td>77.848</td>\n",
       "    </tr>\n",
       "    <tr>\n",
       "      <th>4</th>\n",
       "      <td>17</td>\n",
       "      <td>13</td>\n",
       "      <td>48</td>\n",
       "      <td>67</td>\n",
       "      <td>76.270</td>\n",
       "    </tr>\n",
       "    <tr>\n",
       "      <th>...</th>\n",
       "      <td>...</td>\n",
       "      <td>...</td>\n",
       "      <td>...</td>\n",
       "      <td>...</td>\n",
       "      <td>...</td>\n",
       "    </tr>\n",
       "    <tr>\n",
       "      <th>995</th>\n",
       "      <td>30</td>\n",
       "      <td>14</td>\n",
       "      <td>45</td>\n",
       "      <td>61</td>\n",
       "      <td>78.900</td>\n",
       "    </tr>\n",
       "    <tr>\n",
       "      <th>996</th>\n",
       "      <td>29</td>\n",
       "      <td>15</td>\n",
       "      <td>49</td>\n",
       "      <td>63</td>\n",
       "      <td>82.056</td>\n",
       "    </tr>\n",
       "    <tr>\n",
       "      <th>997</th>\n",
       "      <td>39</td>\n",
       "      <td>20</td>\n",
       "      <td>43</td>\n",
       "      <td>63</td>\n",
       "      <td>86.790</td>\n",
       "    </tr>\n",
       "    <tr>\n",
       "      <th>998</th>\n",
       "      <td>7</td>\n",
       "      <td>17</td>\n",
       "      <td>49</td>\n",
       "      <td>66</td>\n",
       "      <td>73.114</td>\n",
       "    </tr>\n",
       "    <tr>\n",
       "      <th>999</th>\n",
       "      <td>17</td>\n",
       "      <td>11</td>\n",
       "      <td>45</td>\n",
       "      <td>68</td>\n",
       "      <td>74.166</td>\n",
       "    </tr>\n",
       "  </tbody>\n",
       "</table>\n",
       "<p>1000 rows × 5 columns</p>\n",
       "</div>"
      ],
      "text/plain": [
       "     Brand Preference  Brand Attitude  Purchase Intention  Professionalism  \\\n",
       "0                  25              20                  46               63   \n",
       "1                  37              19                  42               62   \n",
       "2                  19              20                  43               63   \n",
       "3                  28              18                  40               62   \n",
       "4                  17              13                  48               67   \n",
       "..                ...             ...                 ...              ...   \n",
       "995                30              14                  45               61   \n",
       "996                29              15                  49               63   \n",
       "997                39              20                  43               63   \n",
       "998                 7              17                  49               66   \n",
       "999                17              11                  45               68   \n",
       "\n",
       "     Customer Satisfaction  \n",
       "0                   81.004  \n",
       "1                   84.160  \n",
       "2                   76.270  \n",
       "3                   77.848  \n",
       "4                   76.270  \n",
       "..                     ...  \n",
       "995                 78.900  \n",
       "996                 82.056  \n",
       "997                 86.790  \n",
       "998                 73.114  \n",
       "999                 74.166  \n",
       "\n",
       "[1000 rows x 5 columns]"
      ]
     },
     "execution_count": 128,
     "metadata": {},
     "output_type": "execute_result"
    }
   ],
   "source": [
    "df"
   ]
  },
  {
   "cell_type": "code",
   "execution_count": 129,
   "id": "4b9a18e6",
   "metadata": {},
   "outputs": [],
   "source": [
    "X = df[[\"Brand Preference\"]]\n",
    "Y = df[\"Customer Satisfaction\"]"
   ]
  },
  {
   "cell_type": "code",
   "execution_count": 130,
   "id": "dce5c621",
   "metadata": {},
   "outputs": [
    {
     "name": "stdout",
     "output_type": "stream",
     "text": [
      "Predicted value (MLR):  78.88408624051698\n",
      "Accuracy (LR):  87.61282537941659\n"
     ]
    },
    {
     "name": "stderr",
     "output_type": "stream",
     "text": [
      "C:\\Users\\shrey\\anaconda3\\lib\\site-packages\\sklearn\\base.py:450: UserWarning: X does not have valid feature names, but LinearRegression was fitted with feature names\n",
      "  warnings.warn(\n"
     ]
    }
   ],
   "source": [
    "from sklearn.linear_model import LinearRegression\n",
    "import numpy as np\n",
    "#feature_df=df[['Professionalism']]\n",
    "#X=np.asarray(feature_df)\n",
    "#Y=np.asarray(df['Customer Satisfaction'])\n",
    "mdl = LinearRegression()\n",
    "mdl.fit(X, Y)\n",
    "pred = mdl.predict([[25]])\n",
    "print(\"Predicted value (MLR): \",pred[0])\n",
    "print(\"Accuracy (LR): \",mdl.score(X[:100], Y[:100])*100)"
   ]
  },
  {
   "cell_type": "code",
   "execution_count": 131,
   "id": "29e2a397",
   "metadata": {},
   "outputs": [
    {
     "name": "stdout",
     "output_type": "stream",
     "text": [
      "Predicted value (DTR):  90.62404687499996\n",
      "Accuracy (DTR):  86.08655983168494\n"
     ]
    },
    {
     "name": "stderr",
     "output_type": "stream",
     "text": [
      "C:\\Users\\shrey\\anaconda3\\lib\\site-packages\\sklearn\\base.py:450: UserWarning: X does not have valid feature names, but DecisionTreeRegressor was fitted with feature names\n",
      "  warnings.warn(\n"
     ]
    }
   ],
   "source": [
    "#DECISION TREE REGRESSION\n",
    "from sklearn.tree import DecisionTreeRegressor\n",
    "mdl =  DecisionTreeRegressor(max_depth=3)\n",
    "mdl.fit(X, Y)\n",
    "pred = mdl.predict([[63]])\n",
    "print(\"Predicted value (DTR): \",pred[0])\n",
    "print(\"Accuracy (DTR): \",mdl.score(X[:100], Y[:100])*100)"
   ]
  },
  {
   "cell_type": "code",
   "execution_count": 132,
   "id": "0d547b0b",
   "metadata": {},
   "outputs": [
    {
     "name": "stdout",
     "output_type": "stream",
     "text": [
      "Predicted value (RFR):  92.57447349314329\n",
      "Accuracy (RFR):  88.84740064158431\n"
     ]
    },
    {
     "name": "stderr",
     "output_type": "stream",
     "text": [
      "C:\\Users\\shrey\\anaconda3\\lib\\site-packages\\sklearn\\base.py:450: UserWarning: X does not have valid feature names, but RandomForestRegressor was fitted with feature names\n",
      "  warnings.warn(\n"
     ]
    }
   ],
   "source": [
    "from sklearn.ensemble import RandomForestRegressor\n",
    "mdl = RandomForestRegressor(n_estimators=100,max_depth=6)\n",
    "mdl.fit(X, Y)\n",
    "pred = mdl.predict([[66]])\n",
    "print(\"Predicted value (RFR): \",pred[0])\n",
    "print(\"Accuracy (RFR): \",mdl.score(X[:100], Y[:100])*100)"
   ]
  },
  {
   "cell_type": "code",
   "execution_count": 133,
   "id": "6c8b151e",
   "metadata": {},
   "outputs": [
    {
     "data": {
      "image/png": "[encoded data removed]",
      "text/plain": [
       "<Figure size 640x480 with 1 Axes>"
      ]
     },
     "metadata": {},
     "output_type": "display_data"
    }
   ],
   "source": [
    "plt.scatter(X['Brand Preference'], Y, color='b')\n",
    "plt.plot(X['Brand Preference'], mdl.predict(X),color='black',linewidth=3)\n",
    "plt.xlabel('Brand Preference')  \n",
    "plt.ylabel('Customer Satisfaction') \n",
    "plt.show()"
   ]
  },
  {
   "cell_type": "code",
   "execution_count": 134,
   "id": "3f8a6025",
   "metadata": {},
   "outputs": [
    {
     "name": "stdout",
     "output_type": "stream",
     "text": [
      "     Brand Preference  Brand Attitude  Purchase Intention  Professionalism\n",
      "0                  25              20                  46               63\n",
      "1                  37              19                  42               62\n",
      "2                  19              20                  43               63\n",
      "3                  28              18                  40               62\n",
      "4                  17              13                  48               67\n",
      "..                ...             ...                 ...              ...\n",
      "995                30              14                  45               61\n",
      "996                29              15                  49               63\n",
      "997                39              20                  43               63\n",
      "998                 7              17                  49               66\n",
      "999                17              11                  45               68\n",
      "\n",
      "[1000 rows x 4 columns]\n",
      "0      81.004\n",
      "1      84.160\n",
      "2      76.270\n",
      "3      77.848\n",
      "4      76.270\n",
      "        ...  \n",
      "995    78.900\n",
      "996    82.056\n",
      "997    86.790\n",
      "998    73.114\n",
      "999    74.166\n",
      "Name: Customer Satisfaction, Length: 1000, dtype: float64\n"
     ]
    }
   ],
   "source": [
    "x=df.iloc[:,:4]\n",
    "y=df.iloc[:,-1]\n",
    "from sklearn.model_selection import train_test_split\n",
    "\n",
    "x_train,x_test,y_train,y_test=train_test_split(x,y,test_size=0.2,random_state=1)\n",
    "print(x)\n",
    "print(y)"
   ]
  },
  {
   "cell_type": "code",
   "execution_count": 143,
   "id": "ad348328",
   "metadata": {},
   "outputs": [
    {
     "name": "stdout",
     "output_type": "stream",
     "text": [
      "MAE 1.6271428648906295e-14\n",
      "Mean Square Error of Linear Regression 3.4230252399350146e-28\n",
      "R2 score of Linear Regression 1.0\n"
     ]
    }
   ],
   "source": [
    "#from sklearn.metrics import mean_absolute_error\n",
    "from sklearn.linear_model import LinearRegression\n",
    "regressor=LinearRegression()\n",
    "regressor.fit(x_train,y_train)\n",
    "score=regressor.score(x_train,y_train)\n",
    "y_predL=regressor.predict(x_test)\n",
    "from sklearn.metrics import mean_absolute_error, mean_squared_error, r2_score\n",
    "mse=mean_squared_error(y_test,y_predL)\n",
    "r2=r2_score(y_test,y_predL)\n",
    "MAE=mean_absolute_error(y_test,y_predL)\n",
    "print(\"MAE\",MAE)\n",
    "print(\"Mean Square Error of Linear Regression\",mse)\n",
    "print(\"R2 score of Linear Regression\",r2)"
   ]
  },
  {
   "cell_type": "code",
   "execution_count": 151,
   "id": "dd205a43",
   "metadata": {},
   "outputs": [
    {
     "name": "stdout",
     "output_type": "stream",
     "text": [
      "Mean Square Error of DecisionTree Regression 3.0572698000000016\n",
      "R2 score of DecisionTree Regression 0.9547137829113996\n",
      "Mean absolute Error of DecisionTree Regression 1.3360400000000008\n"
     ]
    }
   ],
   "source": [
    "#from sklearn.svm import DecisionTreeRegressor\n",
    "mdl =  DecisionTreeRegressor()\n",
    "mdl.fit(x_train,y_train)\n",
    "\n",
    "# Make predictions on the test set\n",
    "y_preds=mdl.predict(x_test)\n",
    "\n",
    "# Evaluate the model\n",
    "mse=mean_squared_error(y_test,y_preds)\n",
    "r2=r2_score(y_test,y_preds)\n",
    "mae=mean_absolute_error(y_test,y_preds)\n",
    "print(\"Mean Square Error of DecisionTree Regression\",mse)\n",
    "print(\"R2 score of DecisionTree Regression\",r2)\n",
    "print(\"Mean absolute Error of DecisionTree Regression\",mae)"
   ]
  },
  {
   "cell_type": "code",
   "execution_count": null,
   "id": "2d0ac0ed",
   "metadata": {},
   "outputs": [],
   "source": []
  },
  {
   "cell_type": "code",
   "execution_count": null,
   "id": "1d999821",
   "metadata": {},
   "outputs": [],
   "source": []
  }
 ],
 "metadata": {
  "kernelspec": {
   "display_name": "Python 3 (ipykernel)",
   "language": "python",
   "name": "python3"
  },
  "language_info": {
   "codemirror_mode": {
    "name": "ipython",
    "version": 3
   },
   "file_extension": ".py",
   "mimetype": "text/x-python",
   "name": "python",
   "nbconvert_exporter": "python",
   "pygments_lexer": "ipython3",
   "version": "3.9.13"
  }
 },
 "nbformat": 4,
 "nbformat_minor": 5
}
